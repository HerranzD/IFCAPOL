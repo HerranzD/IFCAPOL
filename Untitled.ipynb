{
 "cells": [
  {
   "cell_type": "code",
   "execution_count": 1,
   "id": "c8dcc056-5d12-43d7-b8c9-3b92aaa3c071",
   "metadata": {},
   "outputs": [
    {
     "data": {
      "application/vnd.jupyter.widget-view+json": {
       "model_id": "d137f22909d04a1ba8359c08f08e9492",
       "version_major": 2,
       "version_minor": 0
      },
      "text/plain": [
       "ESASkyWidget(layout=Layout(align_self='stretch', height='400px'))"
      ]
     },
     "execution_count": 1,
     "metadata": {},
     "output_type": "execute_result"
    }
   ],
   "source": [
    "from pyesasky import ESASkyWidget\n",
    "esasky = ESASkyWidget()\n",
    "esasky"
   ]
  },
  {
   "cell_type": "code",
   "execution_count": 2,
   "id": "1b215a6c-688b-4ada-ac3c-67825c16b9e0",
   "metadata": {},
   "outputs": [],
   "source": [
    "from pyesasky import Catalogue\n",
    "from pyesasky import CatalogueDescriptor\n",
    "from pyesasky import MetadataDescriptor\n",
    "from pyesasky import MetadataType\n",
    "\n",
    "from pyesasky import FootprintSet\n",
    "from pyesasky import FootprintSetDescriptor\n",
    "from pyesasky import MetadataDescriptor\n",
    "from pyesasky import MetadataType"
   ]
  },
  {
   "cell_type": "code",
   "execution_count": null,
   "id": "3be5a5c7-7ec2-4cca-9df4-547546d436a8",
   "metadata": {},
   "outputs": [],
   "source": []
  }
 ],
 "metadata": {
  "kernelspec": {
   "display_name": "Python 3 (ipykernel)",
   "language": "python",
   "name": "python3"
  },
  "language_info": {
   "codemirror_mode": {
    "name": "ipython",
    "version": 3
   },
   "file_extension": ".py",
   "mimetype": "text/x-python",
   "name": "python",
   "nbconvert_exporter": "python",
   "pygments_lexer": "ipython3",
   "version": "3.8.15"
  }
 },
 "nbformat": 4,
 "nbformat_minor": 5
}
